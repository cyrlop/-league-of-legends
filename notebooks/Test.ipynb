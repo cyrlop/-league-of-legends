{
 "cells": [
  {
   "cell_type": "markdown",
   "metadata": {},
   "source": [
    "# General notebook for testing purpose"
   ]
  },
  {
   "cell_type": "markdown",
   "metadata": {},
   "source": [
    "Dashboard: https://developer.riotgames.com/  \n",
    "Region endpoints: https://developer.riotgames.com/regional-endpoints.html  \n",
    "Full reference: https://developer.riotgames.com/api-methods/"
   ]
  },
  {
   "cell_type": "markdown",
   "metadata": {},
   "source": [
    "## Imports\n",
    "### General imports"
   ]
  },
  {
   "cell_type": "code",
   "execution_count": 10,
   "metadata": {},
   "outputs": [],
   "source": [
    "import sys\n",
    "import pandas as pd\n",
    "\n",
    "%matplotlib inline\n",
    "import matplotlib\n",
    "matplotlib.style.use(\"ggplot\")"
   ]
  },
  {
   "cell_type": "markdown",
   "metadata": {},
   "source": [
    "### Specific imports"
   ]
  },
  {
   "cell_type": "code",
   "execution_count": 50,
   "metadata": {},
   "outputs": [],
   "source": [
    "repo_path = \"D:\\Documents\\GitHub\\league-of-legends\"\n",
    "\n",
    "if not repo_path in sys.path:\n",
    "    sys.path.append(repo_path)\n",
    "    \n",
    "import lib_plots; lib_plots = reload(lib_plots)\n",
    "import lib_api; lib_api = reload(lib_api)\n",
    "import lib_custom; lib_custom = reload(lib_custom)"
   ]
  },
  {
   "cell_type": "markdown",
   "metadata": {},
   "source": [
    "## Parameters & API key"
   ]
  },
  {
   "cell_type": "code",
   "execution_count": 32,
   "metadata": {},
   "outputs": [],
   "source": [
    "region = \"euw1\"\n",
    "summoner_name = \"Cyrlop\"\n",
    "api_key = \"RGAPI-6c6c5b47-39f8-4490-91b6-6e0ff6ecf95f\"\n",
    "summoner_names = [\"Cyrlop\", \"Helluin\", \"leag\"]\n",
    "league_id = \"98fcdbf0-fc9e-11e7-972b-c81f66dacb22\""
   ]
  },
  {
   "cell_type": "code",
   "execution_count": 14,
   "metadata": {},
   "outputs": [
    {
     "name": "stdout",
     "output_type": "stream",
     "text": [
      "API request successful\n"
     ]
    }
   ],
   "source": [
    "api_works = lib_api.test_api_key(api_key)"
   ]
  },
  {
   "cell_type": "markdown",
   "metadata": {},
   "source": [
    "## Summoners"
   ]
  },
  {
   "cell_type": "code",
   "execution_count": 15,
   "metadata": {},
   "outputs": [],
   "source": [
    "json_summ_list = [lib_api.get_summoner_data(region, summoner_name, api_key) for summoner_name in summoner_names]"
   ]
  },
  {
   "cell_type": "code",
   "execution_count": 16,
   "metadata": {},
   "outputs": [
    {
     "data": {
      "text/html": [
       "<div>\n",
       "<style scoped>\n",
       "    .dataframe tbody tr th:only-of-type {\n",
       "        vertical-align: middle;\n",
       "    }\n",
       "\n",
       "    .dataframe tbody tr th {\n",
       "        vertical-align: top;\n",
       "    }\n",
       "\n",
       "    .dataframe thead th {\n",
       "        text-align: right;\n",
       "    }\n",
       "</style>\n",
       "<table border=\"1\" class=\"dataframe\">\n",
       "  <thead>\n",
       "    <tr style=\"text-align: right;\">\n",
       "      <th></th>\n",
       "      <th>accountId</th>\n",
       "      <th>id</th>\n",
       "      <th>profileIconId</th>\n",
       "      <th>revisionDate</th>\n",
       "      <th>summonerLevel</th>\n",
       "    </tr>\n",
       "    <tr>\n",
       "      <th>name</th>\n",
       "      <th></th>\n",
       "      <th></th>\n",
       "      <th></th>\n",
       "      <th></th>\n",
       "      <th></th>\n",
       "    </tr>\n",
       "  </thead>\n",
       "  <tbody>\n",
       "    <tr>\n",
       "      <th>Cyrlop</th>\n",
       "      <td>29238184</td>\n",
       "      <td>24732627</td>\n",
       "      <td>3226</td>\n",
       "      <td>1520077158000</td>\n",
       "      <td>65</td>\n",
       "    </tr>\n",
       "    <tr>\n",
       "      <th>Helluin</th>\n",
       "      <td>21603599</td>\n",
       "      <td>376152</td>\n",
       "      <td>19</td>\n",
       "      <td>1520074822000</td>\n",
       "      <td>60</td>\n",
       "    </tr>\n",
       "    <tr>\n",
       "      <th>leaG</th>\n",
       "      <td>239556</td>\n",
       "      <td>233829</td>\n",
       "      <td>661</td>\n",
       "      <td>1495764755000</td>\n",
       "      <td>30</td>\n",
       "    </tr>\n",
       "  </tbody>\n",
       "</table>\n",
       "</div>"
      ],
      "text/plain": [
       "         accountId        id  profileIconId   revisionDate  summonerLevel\n",
       "name                                                                     \n",
       "Cyrlop    29238184  24732627           3226  1520077158000             65\n",
       "Helluin   21603599    376152             19  1520074822000             60\n",
       "leaG        239556    233829            661  1495764755000             30"
      ]
     },
     "execution_count": 16,
     "metadata": {},
     "output_type": "execute_result"
    }
   ],
   "source": [
    "df_summoners = pd.DataFrame(json_summ_list).set_index(\"name\")\n",
    "df_summoners"
   ]
  },
  {
   "cell_type": "code",
   "execution_count": 17,
   "metadata": {},
   "outputs": [
    {
     "data": {
      "text/plain": [
       "<matplotlib.axes._subplots.AxesSubplot at 0xd2d6710>"
      ]
     },
     "execution_count": 17,
     "metadata": {},
     "output_type": "execute_result"
    },
    {
     "data": {
      "image/png": "[encoded data removed]",
      "text/plain": [
       "<matplotlib.figure.Figure at 0x929d400>"
      ]
     },
     "metadata": {},
     "output_type": "display_data"
    }
   ],
   "source": [
    "ax = df_summoners[\"summonerLevel\"].plot.bar(title=\"Summoner level\")\n",
    "ax = lib_plots.label_bars(ax, perc=False)\n",
    "ax"
   ]
  },
  {
   "cell_type": "markdown",
   "metadata": {},
   "source": [
    "## Leagues"
   ]
  },
  {
   "cell_type": "code",
   "execution_count": 26,
   "metadata": {},
   "outputs": [],
   "source": [
    "json_league_list = [lib_api.get_summoner_league(summoner_id, region, api_key) for summoner_id in df_summoners[\"id\"]]"
   ]
  },
  {
   "cell_type": "code",
   "execution_count": 28,
   "metadata": {},
   "outputs": [
    {
     "data": {
      "text/html": [
       "<div>\n",
       "<style scoped>\n",
       "    .dataframe tbody tr th:only-of-type {\n",
       "        vertical-align: middle;\n",
       "    }\n",
       "\n",
       "    .dataframe tbody tr th {\n",
       "        vertical-align: top;\n",
       "    }\n",
       "\n",
       "    .dataframe thead th {\n",
       "        text-align: right;\n",
       "    }\n",
       "</style>\n",
       "<table border=\"1\" class=\"dataframe\">\n",
       "  <thead>\n",
       "    <tr style=\"text-align: right;\">\n",
       "      <th></th>\n",
       "      <th></th>\n",
       "      <th>freshBlood</th>\n",
       "      <th>hotStreak</th>\n",
       "      <th>inactive</th>\n",
       "      <th>leagueId</th>\n",
       "      <th>leagueName</th>\n",
       "      <th>leaguePoints</th>\n",
       "      <th>losses</th>\n",
       "      <th>playerOrTeamId</th>\n",
       "      <th>rank</th>\n",
       "      <th>tier</th>\n",
       "      <th>veteran</th>\n",
       "      <th>wins</th>\n",
       "      <th>ratio</th>\n",
       "    </tr>\n",
       "    <tr>\n",
       "      <th>playerOrTeamName</th>\n",
       "      <th>queueType</th>\n",
       "      <th></th>\n",
       "      <th></th>\n",
       "      <th></th>\n",
       "      <th></th>\n",
       "      <th></th>\n",
       "      <th></th>\n",
       "      <th></th>\n",
       "      <th></th>\n",
       "      <th></th>\n",
       "      <th></th>\n",
       "      <th></th>\n",
       "      <th></th>\n",
       "      <th></th>\n",
       "    </tr>\n",
       "  </thead>\n",
       "  <tbody>\n",
       "    <tr>\n",
       "      <th>Cyrlop</th>\n",
       "      <th>RANKED_SOLO_5x5</th>\n",
       "      <td>False</td>\n",
       "      <td>False</td>\n",
       "      <td>False</td>\n",
       "      <td>98fcdbf0-fc9e-11e7-972b-c81f66dacb22</td>\n",
       "      <td>Zed's Spellswords</td>\n",
       "      <td>82</td>\n",
       "      <td>49</td>\n",
       "      <td>24732627</td>\n",
       "      <td>IV</td>\n",
       "      <td>GOLD</td>\n",
       "      <td>False</td>\n",
       "      <td>49</td>\n",
       "      <td>50.0</td>\n",
       "    </tr>\n",
       "    <tr>\n",
       "      <th>Helluin</th>\n",
       "      <th>RANKED_SOLO_5x5</th>\n",
       "      <td>False</td>\n",
       "      <td>False</td>\n",
       "      <td>False</td>\n",
       "      <td>adf0deb0-fa93-11e7-964f-c81f66dd0e0d</td>\n",
       "      <td>Trundle's Spellswords</td>\n",
       "      <td>0</td>\n",
       "      <td>76</td>\n",
       "      <td>376152</td>\n",
       "      <td>I</td>\n",
       "      <td>GOLD</td>\n",
       "      <td>True</td>\n",
       "      <td>76</td>\n",
       "      <td>50.0</td>\n",
       "    </tr>\n",
       "  </tbody>\n",
       "</table>\n",
       "</div>"
      ],
      "text/plain": [
       "                                  freshBlood  hotStreak  inactive  \\\n",
       "playerOrTeamName queueType                                          \n",
       "Cyrlop           RANKED_SOLO_5x5       False      False     False   \n",
       "Helluin          RANKED_SOLO_5x5       False      False     False   \n",
       "\n",
       "                                                              leagueId  \\\n",
       "playerOrTeamName queueType                                               \n",
       "Cyrlop           RANKED_SOLO_5x5  98fcdbf0-fc9e-11e7-972b-c81f66dacb22   \n",
       "Helluin          RANKED_SOLO_5x5  adf0deb0-fa93-11e7-964f-c81f66dd0e0d   \n",
       "\n",
       "                                             leagueName  leaguePoints  losses  \\\n",
       "playerOrTeamName queueType                                                      \n",
       "Cyrlop           RANKED_SOLO_5x5      Zed's Spellswords            82      49   \n",
       "Helluin          RANKED_SOLO_5x5  Trundle's Spellswords             0      76   \n",
       "\n",
       "                                 playerOrTeamId rank  tier  veteran  wins  \\\n",
       "playerOrTeamName queueType                                                  \n",
       "Cyrlop           RANKED_SOLO_5x5       24732627   IV  GOLD    False    49   \n",
       "Helluin          RANKED_SOLO_5x5         376152    I  GOLD     True    76   \n",
       "\n",
       "                                  ratio  \n",
       "playerOrTeamName queueType               \n",
       "Cyrlop           RANKED_SOLO_5x5   50.0  \n",
       "Helluin          RANKED_SOLO_5x5   50.0  "
      ]
     },
     "execution_count": 28,
     "metadata": {},
     "output_type": "execute_result"
    }
   ],
   "source": [
    "leagues = []\n",
    "for l in json_league_list:\n",
    "    for e in l:\n",
    "        leagues.append(e)\n",
    "df_leagues = pd.DataFrame(leagues).set_index([\"playerOrTeamName\",\"queueType\"])\n",
    "df_leagues[\"ratio\"] = (df_leagues[\"wins\"]/(df_leagues[\"losses\"]+df_leagues[\"wins\"]))*100\n",
    "df_leagues[\"ratio\"] = df_leagues[\"ratio\"].apply(round, ndigits=2)\n",
    "df_leagues"
   ]
  },
  {
   "cell_type": "code",
   "execution_count": 30,
   "metadata": {},
   "outputs": [
    {
     "data": {
      "text/plain": [
       "<matplotlib.axes._subplots.AxesSubplot at 0xdee4160>"
      ]
     },
     "execution_count": 30,
     "metadata": {},
     "output_type": "execute_result"
    },
    {
     "data": {
      "image/png": "[encoded data removed]",
      "text/plain": [
       "<matplotlib.figure.Figure at 0xdefa978>"
      ]
     },
     "metadata": {},
     "output_type": "display_data"
    }
   ],
   "source": [
    "ax = df_leagues[\"ratio\"].plot.bar(title=\"Ratio\", ylim=(0,55))\n",
    "ax = lib_plots.label_bars(ax, perc=True)\n",
    "ax"
   ]
  },
  {
   "cell_type": "markdown",
   "metadata": {},
   "source": [
    "## Start testing theory: Pseudo syntax"
   ]
  },
  {
   "cell_type": "markdown",
   "metadata": {},
   "source": [
    "### Get as much data as possible"
   ]
  },
  {
   "cell_type": "code",
   "execution_count": 38,
   "metadata": {},
   "outputs": [],
   "source": [
    "league_data = lib_api.get_league_data(league_id, region, api_key)"
   ]
  },
  {
   "cell_type": "code",
   "execution_count": 44,
   "metadata": {},
   "outputs": [
    {
     "data": {
      "text/html": [
       "<div>\n",
       "<style scoped>\n",
       "    .dataframe tbody tr th:only-of-type {\n",
       "        vertical-align: middle;\n",
       "    }\n",
       "\n",
       "    .dataframe tbody tr th {\n",
       "        vertical-align: top;\n",
       "    }\n",
       "\n",
       "    .dataframe thead th {\n",
       "        text-align: right;\n",
       "    }\n",
       "</style>\n",
       "<table border=\"1\" class=\"dataframe\">\n",
       "  <thead>\n",
       "    <tr style=\"text-align: right;\">\n",
       "      <th></th>\n",
       "      <th>Losses</th>\n",
       "      <th>Pseudo</th>\n",
       "      <th>Rank</th>\n",
       "      <th>Ratio</th>\n",
       "      <th>Wins</th>\n",
       "    </tr>\n",
       "  </thead>\n",
       "  <tbody>\n",
       "    <tr>\n",
       "      <th>0</th>\n",
       "      <td>8</td>\n",
       "      <td>Yergi</td>\n",
       "      <td>V</td>\n",
       "      <td>52.941176</td>\n",
       "      <td>9</td>\n",
       "    </tr>\n",
       "    <tr>\n",
       "      <th>1</th>\n",
       "      <td>113</td>\n",
       "      <td>Adaptoe</td>\n",
       "      <td>IV</td>\n",
       "      <td>52.719665</td>\n",
       "      <td>126</td>\n",
       "    </tr>\n",
       "    <tr>\n",
       "      <th>2</th>\n",
       "      <td>18</td>\n",
       "      <td>Da 3p1c 0n3</td>\n",
       "      <td>I</td>\n",
       "      <td>43.750000</td>\n",
       "      <td>14</td>\n",
       "    </tr>\n",
       "    <tr>\n",
       "      <th>3</th>\n",
       "      <td>69</td>\n",
       "      <td>LittleHawk02</td>\n",
       "      <td>II</td>\n",
       "      <td>48.120301</td>\n",
       "      <td>64</td>\n",
       "    </tr>\n",
       "    <tr>\n",
       "      <th>4</th>\n",
       "      <td>62</td>\n",
       "      <td>crYs0</td>\n",
       "      <td>III</td>\n",
       "      <td>49.180328</td>\n",
       "      <td>60</td>\n",
       "    </tr>\n",
       "  </tbody>\n",
       "</table>\n",
       "</div>"
      ],
      "text/plain": [
       "   Losses        Pseudo Rank      Ratio  Wins\n",
       "0       8         Yergi    V  52.941176     9\n",
       "1     113       Adaptoe   IV  52.719665   126\n",
       "2      18   Da 3p1c 0n3    I  43.750000    14\n",
       "3      69  LittleHawk02   II  48.120301    64\n",
       "4      62         crYs0  III  49.180328    60"
      ]
     },
     "execution_count": 44,
     "metadata": {},
     "output_type": "execute_result"
    }
   ],
   "source": [
    "league_list_for_df = []\n",
    "\n",
    "for entry in league_data[\"entries\"]:\n",
    "    league_list_for_df.append({\n",
    "        \"Wins\": entry[\"wins\"],\n",
    "        \"Losses\": entry[\"losses\"],\n",
    "        \"Pseudo\": entry[\"playerOrTeamName\"],\n",
    "        \"Rank\": entry[\"rank\"],\n",
    "        \"Ratio\": (float(entry[\"wins\"])/(float(entry[\"losses\"])+float(entry[\"wins\"])))*100\n",
    "    })\n",
    "\n",
    "df_league_players = pd.DataFrame(league_list_for_df)\n",
    "df_league_players.head()"
   ]
  },
  {
   "cell_type": "markdown",
   "metadata": {},
   "source": [
    "### Rank all pseudos"
   ]
  },
  {
   "cell_type": "code",
   "execution_count": 51,
   "metadata": {},
   "outputs": [
    {
     "data": {
      "text/html": [
       "<div>\n",
       "<style scoped>\n",
       "    .dataframe tbody tr th:only-of-type {\n",
       "        vertical-align: middle;\n",
       "    }\n",
       "\n",
       "    .dataframe tbody tr th {\n",
       "        vertical-align: top;\n",
       "    }\n",
       "\n",
       "    .dataframe thead th {\n",
       "        text-align: right;\n",
       "    }\n",
       "</style>\n",
       "<table border=\"1\" class=\"dataframe\">\n",
       "  <thead>\n",
       "    <tr style=\"text-align: right;\">\n",
       "      <th></th>\n",
       "      <th>Losses</th>\n",
       "      <th>Pseudo</th>\n",
       "      <th>Rank</th>\n",
       "      <th>Ratio</th>\n",
       "      <th>Wins</th>\n",
       "      <th>Pseudo_score</th>\n",
       "    </tr>\n",
       "  </thead>\n",
       "  <tbody>\n",
       "    <tr>\n",
       "      <th>0</th>\n",
       "      <td>8</td>\n",
       "      <td>Yergi</td>\n",
       "      <td>V</td>\n",
       "      <td>52.941176</td>\n",
       "      <td>9</td>\n",
       "      <td>1.00</td>\n",
       "    </tr>\n",
       "    <tr>\n",
       "      <th>1</th>\n",
       "      <td>113</td>\n",
       "      <td>Adaptoe</td>\n",
       "      <td>IV</td>\n",
       "      <td>52.719665</td>\n",
       "      <td>126</td>\n",
       "      <td>1.00</td>\n",
       "    </tr>\n",
       "    <tr>\n",
       "      <th>2</th>\n",
       "      <td>18</td>\n",
       "      <td>Da 3p1c 0n3</td>\n",
       "      <td>I</td>\n",
       "      <td>43.750000</td>\n",
       "      <td>14</td>\n",
       "      <td>0.50</td>\n",
       "    </tr>\n",
       "    <tr>\n",
       "      <th>3</th>\n",
       "      <td>69</td>\n",
       "      <td>LittleHawk02</td>\n",
       "      <td>II</td>\n",
       "      <td>48.120301</td>\n",
       "      <td>64</td>\n",
       "      <td>0.50</td>\n",
       "    </tr>\n",
       "    <tr>\n",
       "      <th>4</th>\n",
       "      <td>62</td>\n",
       "      <td>crYs0</td>\n",
       "      <td>III</td>\n",
       "      <td>49.180328</td>\n",
       "      <td>60</td>\n",
       "      <td>0.25</td>\n",
       "    </tr>\n",
       "  </tbody>\n",
       "</table>\n",
       "</div>"
      ],
      "text/plain": [
       "   Losses        Pseudo Rank      Ratio  Wins  Pseudo_score\n",
       "0       8         Yergi    V  52.941176     9          1.00\n",
       "1     113       Adaptoe   IV  52.719665   126          1.00\n",
       "2      18   Da 3p1c 0n3    I  43.750000    14          0.50\n",
       "3      69  LittleHawk02   II  48.120301    64          0.50\n",
       "4      62         crYs0  III  49.180328    60          0.25"
      ]
     },
     "execution_count": 51,
     "metadata": {},
     "output_type": "execute_result"
    }
   ],
   "source": [
    "df_league_players[\"Pseudo_score\"] = df_league_players[\"Pseudo\"].apply(lib_custom.rate_pseudo)\n",
    "df_league_players.head()"
   ]
  },
  {
   "cell_type": "markdown",
   "metadata": {},
   "source": [
    "### Check if higher ranked pseudo win more"
   ]
  },
  {
   "cell_type": "code",
   "execution_count": 53,
   "metadata": {},
   "outputs": [
    {
     "data": {
      "text/html": [
       "<div>\n",
       "<style scoped>\n",
       "    .dataframe tbody tr th:only-of-type {\n",
       "        vertical-align: middle;\n",
       "    }\n",
       "\n",
       "    .dataframe tbody tr th {\n",
       "        vertical-align: top;\n",
       "    }\n",
       "\n",
       "    .dataframe thead th {\n",
       "        text-align: right;\n",
       "    }\n",
       "</style>\n",
       "<table border=\"1\" class=\"dataframe\">\n",
       "  <thead>\n",
       "    <tr style=\"text-align: right;\">\n",
       "      <th></th>\n",
       "      <th>Losses</th>\n",
       "      <th>Ratio</th>\n",
       "      <th>Wins</th>\n",
       "    </tr>\n",
       "    <tr>\n",
       "      <th>Pseudo_score</th>\n",
       "      <th></th>\n",
       "      <th></th>\n",
       "      <th></th>\n",
       "    </tr>\n",
       "  </thead>\n",
       "  <tbody>\n",
       "    <tr>\n",
       "      <th>0.250</th>\n",
       "      <td>34.764706</td>\n",
       "      <td>54.434302</td>\n",
       "      <td>38.117647</td>\n",
       "    </tr>\n",
       "    <tr>\n",
       "      <th>0.375</th>\n",
       "      <td>54.500000</td>\n",
       "      <td>49.087118</td>\n",
       "      <td>54.750000</td>\n",
       "    </tr>\n",
       "    <tr>\n",
       "      <th>0.500</th>\n",
       "      <td>40.815385</td>\n",
       "      <td>52.147298</td>\n",
       "      <td>41.430769</td>\n",
       "    </tr>\n",
       "    <tr>\n",
       "      <th>0.750</th>\n",
       "      <td>39.666667</td>\n",
       "      <td>55.627727</td>\n",
       "      <td>42.333333</td>\n",
       "    </tr>\n",
       "    <tr>\n",
       "      <th>1.000</th>\n",
       "      <td>38.035714</td>\n",
       "      <td>49.823866</td>\n",
       "      <td>37.776786</td>\n",
       "    </tr>\n",
       "  </tbody>\n",
       "</table>\n",
       "</div>"
      ],
      "text/plain": [
       "                 Losses      Ratio       Wins\n",
       "Pseudo_score                                 \n",
       "0.250         34.764706  54.434302  38.117647\n",
       "0.375         54.500000  49.087118  54.750000\n",
       "0.500         40.815385  52.147298  41.430769\n",
       "0.750         39.666667  55.627727  42.333333\n",
       "1.000         38.035714  49.823866  37.776786"
      ]
     },
     "execution_count": 53,
     "metadata": {},
     "output_type": "execute_result"
    }
   ],
   "source": [
    "df_league_players_grouped = df_league_players.groupby(\"Pseudo_score\").mean()\n",
    "df_league_players_grouped"
   ]
  },
  {
   "cell_type": "code",
   "execution_count": 57,
   "metadata": {},
   "outputs": [
    {
     "data": {
      "text/plain": [
       "<matplotlib.axes._subplots.AxesSubplot at 0x101e4f60>"
      ]
     },
     "execution_count": 57,
     "metadata": {},
     "output_type": "execute_result"
    },
    {
     "data": {
      "image/png": "[encoded data removed]",
      "text/plain": [
       "<matplotlib.figure.Figure at 0xd91add8>"
      ]
     },
     "metadata": {},
     "output_type": "display_data"
    }
   ],
   "source": [
    "ax = df_league_players_grouped[\"Ratio\"].plot.bar(title=\"Ratio vs Pseudo score\", ylim=(0,65))\n",
    "ax = lib_plots.label_bars(ax, perc=True)\n",
    "ax"
   ]
  }
 ],
 "metadata": {
  "kernelspec": {
   "display_name": "Python 2",
   "language": "python",
   "name": "python2"
  },
  "language_info": {
   "codemirror_mode": {
    "name": "ipython",
    "version": 2
   },
   "file_extension": ".py",
   "mimetype": "text/x-python",
   "name": "python",
   "nbconvert_exporter": "python",
   "pygments_lexer": "ipython2",
   "version": "2.7.14"
  }
 },
 "nbformat": 4,
 "nbformat_minor": 2
}
