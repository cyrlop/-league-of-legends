{
 "cells": [
  {
   "cell_type": "markdown",
   "metadata": {},
   "source": [
    "# General notebook for testing purpose"
   ]
  },
  {
   "cell_type": "markdown",
   "metadata": {},
   "source": [
    "Dashboard: https://developer.riotgames.com/  \n",
    "Region endpoints: https://developer.riotgames.com/regional-endpoints.html  \n",
    "Full reference: https://developer.riotgames.com/api-methods/"
   ]
  },
  {
   "cell_type": "code",
   "execution_count": 11,
   "metadata": {},
   "outputs": [],
   "source": [
    "import requests\n",
    "import pandas as pd\n",
    "\n",
    "%matplotlib inline\n",
    "import matplotlib\n",
    "matplotlib.style.use(\"ggplot\")"
   ]
  },
  {
   "cell_type": "markdown",
   "metadata": {},
   "source": [
    "## Functions"
   ]
  },
  {
   "cell_type": "code",
   "execution_count": 12,
   "metadata": {},
   "outputs": [],
   "source": [
    "def get_json(url):\n",
    "    return requests.get(url).json()\n",
    "\n",
    "def get_summoner_data(region, summoner_name, api_key):\n",
    "    url = 'https://{}.api.riotgames.com/lol/summoner/v3/summoners/by-name/{}?api_key={}'.format(\n",
    "        region,\n",
    "        summoner_name,\n",
    "        api_key\n",
    "    )\n",
    "    return get_json(url)\n",
    "\n",
    "def get_summoner_league(summoner_id, region, api_key):\n",
    "    url = 'https://{}.api.riotgames.com/lol/league/v3/positions/by-summoner/{}?api_key={}'.format(\n",
    "        region,\n",
    "        summoner_id,\n",
    "        api_key\n",
    "    )\n",
    "    return get_json(url)"
   ]
  },
  {
   "cell_type": "markdown",
   "metadata": {},
   "source": [
    "## Parameters & API key"
   ]
  },
  {
   "cell_type": "code",
   "execution_count": 13,
   "metadata": {},
   "outputs": [],
   "source": [
    "region = \"euw1\"\n",
    "summoner_name = \"Cyrlop\"\n",
    "api_key = \"RGAPI-f9fbf09c-17b8-48e4-8cdb-ea6ef58a1057\"\n",
    "summoner_names = [\"Cyrlop\", \"Helluin\", \"leag\"]"
   ]
  },
  {
   "cell_type": "code",
   "execution_count": 14,
   "metadata": {},
   "outputs": [
    {
     "data": {
      "text/plain": [
       "{u'accountId': 29238184,\n",
       " u'id': 24732627,\n",
       " u'name': u'Cyrlop',\n",
       " u'profileIconId': 3226,\n",
       " u'revisionDate': 1519938235000L,\n",
       " u'summonerLevel': 65}"
      ]
     },
     "execution_count": 14,
     "metadata": {},
     "output_type": "execute_result"
    }
   ],
   "source": [
    "# Test\n",
    "get_summoner_data(region, summoner_name, api_key)"
   ]
  },
  {
   "cell_type": "markdown",
   "metadata": {},
   "source": [
    "## Summoners"
   ]
  },
  {
   "cell_type": "code",
   "execution_count": 15,
   "metadata": {},
   "outputs": [],
   "source": [
    "json_summ_list = [get_summoner_data(region, summoner_name, api_key) for summoner_name in summoner_names]"
   ]
  },
  {
   "cell_type": "code",
   "execution_count": 16,
   "metadata": {},
   "outputs": [
    {
     "data": {
      "text/html": [
       "<div>\n",
       "<style scoped>\n",
       "    .dataframe tbody tr th:only-of-type {\n",
       "        vertical-align: middle;\n",
       "    }\n",
       "\n",
       "    .dataframe tbody tr th {\n",
       "        vertical-align: top;\n",
       "    }\n",
       "\n",
       "    .dataframe thead th {\n",
       "        text-align: right;\n",
       "    }\n",
       "</style>\n",
       "<table border=\"1\" class=\"dataframe\">\n",
       "  <thead>\n",
       "    <tr style=\"text-align: right;\">\n",
       "      <th></th>\n",
       "      <th>accountId</th>\n",
       "      <th>id</th>\n",
       "      <th>profileIconId</th>\n",
       "      <th>revisionDate</th>\n",
       "      <th>summonerLevel</th>\n",
       "    </tr>\n",
       "    <tr>\n",
       "      <th>name</th>\n",
       "      <th></th>\n",
       "      <th></th>\n",
       "      <th></th>\n",
       "      <th></th>\n",
       "      <th></th>\n",
       "    </tr>\n",
       "  </thead>\n",
       "  <tbody>\n",
       "    <tr>\n",
       "      <th>Cyrlop</th>\n",
       "      <td>29238184</td>\n",
       "      <td>24732627</td>\n",
       "      <td>3226</td>\n",
       "      <td>1519938235000</td>\n",
       "      <td>65</td>\n",
       "    </tr>\n",
       "    <tr>\n",
       "      <th>Helluin</th>\n",
       "      <td>21603599</td>\n",
       "      <td>376152</td>\n",
       "      <td>19</td>\n",
       "      <td>1519932790000</td>\n",
       "      <td>60</td>\n",
       "    </tr>\n",
       "    <tr>\n",
       "      <th>leaG</th>\n",
       "      <td>239556</td>\n",
       "      <td>233829</td>\n",
       "      <td>661</td>\n",
       "      <td>1495764755000</td>\n",
       "      <td>30</td>\n",
       "    </tr>\n",
       "  </tbody>\n",
       "</table>\n",
       "</div>"
      ],
      "text/plain": [
       "         accountId        id  profileIconId   revisionDate  summonerLevel\n",
       "name                                                                     \n",
       "Cyrlop    29238184  24732627           3226  1519938235000             65\n",
       "Helluin   21603599    376152             19  1519932790000             60\n",
       "leaG        239556    233829            661  1495764755000             30"
      ]
     },
     "execution_count": 16,
     "metadata": {},
     "output_type": "execute_result"
    }
   ],
   "source": [
    "df_summoners = pd.DataFrame(json_summ_list).set_index(\"name\")\n",
    "df_summoners"
   ]
  },
  {
   "cell_type": "code",
   "execution_count": 25,
   "metadata": {},
   "outputs": [
    {
     "data": {
      "text/plain": [
       "<matplotlib.axes._subplots.AxesSubplot at 0xd6f51d0>"
      ]
     },
     "execution_count": 25,
     "metadata": {},
     "output_type": "execute_result"
    },
    {
     "data": {
      "image/png": "[encoded data removed]",
      "text/plain": [
       "<matplotlib.figure.Figure at 0xd59e2b0>"
      ]
     },
     "metadata": {},
     "output_type": "display_data"
    }
   ],
   "source": [
    "df_summoners[\"summonerLevel\"].plot.bar(title=\"Summoner level\")"
   ]
  },
  {
   "cell_type": "markdown",
   "metadata": {},
   "source": [
    "## Leagues"
   ]
  },
  {
   "cell_type": "code",
   "execution_count": 18,
   "metadata": {},
   "outputs": [],
   "source": [
    "json_league_list = [get_summoner_league(summoner_id, region, api_key) for summoner_id in df_summoners[\"id\"]]"
   ]
  },
  {
   "cell_type": "code",
   "execution_count": 27,
   "metadata": {},
   "outputs": [
    {
     "data": {
      "text/html": [
       "<div>\n",
       "<style scoped>\n",
       "    .dataframe tbody tr th:only-of-type {\n",
       "        vertical-align: middle;\n",
       "    }\n",
       "\n",
       "    .dataframe tbody tr th {\n",
       "        vertical-align: top;\n",
       "    }\n",
       "\n",
       "    .dataframe thead th {\n",
       "        text-align: right;\n",
       "    }\n",
       "</style>\n",
       "<table border=\"1\" class=\"dataframe\">\n",
       "  <thead>\n",
       "    <tr style=\"text-align: right;\">\n",
       "      <th></th>\n",
       "      <th></th>\n",
       "      <th>freshBlood</th>\n",
       "      <th>hotStreak</th>\n",
       "      <th>inactive</th>\n",
       "      <th>leagueId</th>\n",
       "      <th>leagueName</th>\n",
       "      <th>leaguePoints</th>\n",
       "      <th>losses</th>\n",
       "      <th>playerOrTeamId</th>\n",
       "      <th>rank</th>\n",
       "      <th>tier</th>\n",
       "      <th>veteran</th>\n",
       "      <th>wins</th>\n",
       "      <th>ratio</th>\n",
       "    </tr>\n",
       "    <tr>\n",
       "      <th>playerOrTeamName</th>\n",
       "      <th>queueType</th>\n",
       "      <th></th>\n",
       "      <th></th>\n",
       "      <th></th>\n",
       "      <th></th>\n",
       "      <th></th>\n",
       "      <th></th>\n",
       "      <th></th>\n",
       "      <th></th>\n",
       "      <th></th>\n",
       "      <th></th>\n",
       "      <th></th>\n",
       "      <th></th>\n",
       "      <th></th>\n",
       "    </tr>\n",
       "  </thead>\n",
       "  <tbody>\n",
       "    <tr>\n",
       "      <th>Cyrlop</th>\n",
       "      <th>RANKED_SOLO_5x5</th>\n",
       "      <td>False</td>\n",
       "      <td>False</td>\n",
       "      <td>False</td>\n",
       "      <td>98fcdbf0-fc9e-11e7-972b-c81f66dacb22</td>\n",
       "      <td>Zed's Spellswords</td>\n",
       "      <td>19</td>\n",
       "      <td>48</td>\n",
       "      <td>24732627</td>\n",
       "      <td>IV</td>\n",
       "      <td>GOLD</td>\n",
       "      <td>False</td>\n",
       "      <td>45</td>\n",
       "      <td>48.39</td>\n",
       "    </tr>\n",
       "    <tr>\n",
       "      <th>Helluin</th>\n",
       "      <th>RANKED_SOLO_5x5</th>\n",
       "      <td>False</td>\n",
       "      <td>False</td>\n",
       "      <td>False</td>\n",
       "      <td>adf0deb0-fa93-11e7-964f-c81f66dd0e0d</td>\n",
       "      <td>Trundle's Spellswords</td>\n",
       "      <td>46</td>\n",
       "      <td>74</td>\n",
       "      <td>376152</td>\n",
       "      <td>II</td>\n",
       "      <td>GOLD</td>\n",
       "      <td>True</td>\n",
       "      <td>71</td>\n",
       "      <td>48.97</td>\n",
       "    </tr>\n",
       "  </tbody>\n",
       "</table>\n",
       "</div>"
      ],
      "text/plain": [
       "                                  freshBlood  hotStreak  inactive  \\\n",
       "playerOrTeamName queueType                                          \n",
       "Cyrlop           RANKED_SOLO_5x5       False      False     False   \n",
       "Helluin          RANKED_SOLO_5x5       False      False     False   \n",
       "\n",
       "                                                              leagueId  \\\n",
       "playerOrTeamName queueType                                               \n",
       "Cyrlop           RANKED_SOLO_5x5  98fcdbf0-fc9e-11e7-972b-c81f66dacb22   \n",
       "Helluin          RANKED_SOLO_5x5  adf0deb0-fa93-11e7-964f-c81f66dd0e0d   \n",
       "\n",
       "                                             leagueName  leaguePoints  losses  \\\n",
       "playerOrTeamName queueType                                                      \n",
       "Cyrlop           RANKED_SOLO_5x5      Zed's Spellswords            19      48   \n",
       "Helluin          RANKED_SOLO_5x5  Trundle's Spellswords            46      74   \n",
       "\n",
       "                                 playerOrTeamId rank  tier  veteran  wins  \\\n",
       "playerOrTeamName queueType                                                  \n",
       "Cyrlop           RANKED_SOLO_5x5       24732627   IV  GOLD    False    45   \n",
       "Helluin          RANKED_SOLO_5x5         376152   II  GOLD     True    71   \n",
       "\n",
       "                                  ratio  \n",
       "playerOrTeamName queueType               \n",
       "Cyrlop           RANKED_SOLO_5x5  48.39  \n",
       "Helluin          RANKED_SOLO_5x5  48.97  "
      ]
     },
     "execution_count": 27,
     "metadata": {},
     "output_type": "execute_result"
    }
   ],
   "source": [
    "leagues = []\n",
    "for l in json_league_list:\n",
    "    for e in l:\n",
    "        leagues.append(e)\n",
    "df_leagues = pd.DataFrame(leagues).set_index([\"playerOrTeamName\",\"queueType\"])\n",
    "df_leagues[\"ratio\"] = (df_leagues[\"wins\"]/(df_leagues[\"losses\"]+df_leagues[\"wins\"]))*100\n",
    "df_leagues[\"ratio\"] = df_leagues[\"ratio\"].apply(round, ndigits=2)\n",
    "df_leagues"
   ]
  },
  {
   "cell_type": "code",
   "execution_count": 28,
   "metadata": {},
   "outputs": [
    {
     "data": {
      "text/plain": [
       "<matplotlib.axes._subplots.AxesSubplot at 0xd78a438>"
      ]
     },
     "execution_count": 28,
     "metadata": {},
     "output_type": "execute_result"
    },
    {
     "data": {
      "image/png": "[encoded data removed]",
      "text/plain": [
       "<matplotlib.figure.Figure at 0xd290e10>"
      ]
     },
     "metadata": {},
     "output_type": "display_data"
    }
   ],
   "source": [
    "df_leagues[\"ratio\"].plot.bar(title=\"Ratio\")"
   ]
  },
  {
   "cell_type": "code",
   "execution_count": 112,
   "metadata": {},
   "outputs": [
    {
     "data": {
      "text/html": [
       "<div>\n",
       "<style scoped>\n",
       "    .dataframe tbody tr th:only-of-type {\n",
       "        vertical-align: middle;\n",
       "    }\n",
       "\n",
       "    .dataframe tbody tr th {\n",
       "        vertical-align: top;\n",
       "    }\n",
       "\n",
       "    .dataframe thead th {\n",
       "        text-align: right;\n",
       "    }\n",
       "</style>\n",
       "<table border=\"1\" class=\"dataframe\">\n",
       "  <thead>\n",
       "    <tr style=\"text-align: right;\">\n",
       "      <th></th>\n",
       "      <th>accountId</th>\n",
       "      <th>id</th>\n",
       "      <th>profileIconId</th>\n",
       "      <th>revisionDate</th>\n",
       "      <th>summonerLevel</th>\n",
       "      <th>id</th>\n",
       "    </tr>\n",
       "    <tr>\n",
       "      <th>name</th>\n",
       "      <th></th>\n",
       "      <th></th>\n",
       "      <th></th>\n",
       "      <th></th>\n",
       "      <th></th>\n",
       "      <th></th>\n",
       "    </tr>\n",
       "  </thead>\n",
       "  <tbody>\n",
       "    <tr>\n",
       "      <th>Cyrlop</th>\n",
       "      <td>29238184</td>\n",
       "      <td>24732627</td>\n",
       "      <td>3226</td>\n",
       "      <td>1519482189000</td>\n",
       "      <td>63</td>\n",
       "      <td>[{u'queueType': u'RANKED_SOLO_5x5', u'hotStrea...</td>\n",
       "    </tr>\n",
       "    <tr>\n",
       "      <th>Helluin</th>\n",
       "      <td>21603599</td>\n",
       "      <td>376152</td>\n",
       "      <td>19</td>\n",
       "      <td>1519469507000</td>\n",
       "      <td>56</td>\n",
       "      <td>[{u'queueType': u'RANKED_SOLO_5x5', u'hotStrea...</td>\n",
       "    </tr>\n",
       "    <tr>\n",
       "      <th>leaG</th>\n",
       "      <td>239556</td>\n",
       "      <td>233829</td>\n",
       "      <td>661</td>\n",
       "      <td>1495764755000</td>\n",
       "      <td>30</td>\n",
       "      <td>[]</td>\n",
       "    </tr>\n",
       "  </tbody>\n",
       "</table>\n",
       "</div>"
      ],
      "text/plain": [
       "         accountId        id  profileIconId   revisionDate  summonerLevel  \\\n",
       "name                                                                        \n",
       "Cyrlop    29238184  24732627           3226  1519482189000             63   \n",
       "Helluin   21603599    376152             19  1519469507000             56   \n",
       "leaG        239556    233829            661  1495764755000             30   \n",
       "\n",
       "                                                        id  \n",
       "name                                                        \n",
       "Cyrlop   [{u'queueType': u'RANKED_SOLO_5x5', u'hotStrea...  \n",
       "Helluin  [{u'queueType': u'RANKED_SOLO_5x5', u'hotStrea...  \n",
       "leaG                                                    []  "
      ]
     },
     "execution_count": 112,
     "metadata": {},
     "output_type": "execute_result"
    }
   ],
   "source": [
    "df = pd.concat([df_summoners,df_leagues], axis=1, join=\"outer\")\n",
    "df"
   ]
  }
 ],
 "metadata": {
  "kernelspec": {
   "display_name": "Python 2",
   "language": "python",
   "name": "python2"
  },
  "language_info": {
   "codemirror_mode": {
    "name": "ipython",
    "version": 2
   },
   "file_extension": ".py",
   "mimetype": "text/x-python",
   "name": "python",
   "nbconvert_exporter": "python",
   "pygments_lexer": "ipython2",
   "version": "2.7.14"
  }
 },
 "nbformat": 4,
 "nbformat_minor": 2
}
