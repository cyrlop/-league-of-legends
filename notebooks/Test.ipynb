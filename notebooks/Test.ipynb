{
 "cells": [
  {
   "cell_type": "markdown",
   "metadata": {},
   "source": [
    "# General notebook for testing purpose"
   ]
  },
  {
   "cell_type": "markdown",
   "metadata": {},
   "source": [
    "Dashboard: https://developer.riotgames.com/  \n",
    "Region endpoints: https://developer.riotgames.com/regional-endpoints.html  \n",
    "Full reference: https://developer.riotgames.com/api-methods/"
   ]
  },
  {
   "cell_type": "markdown",
   "metadata": {},
   "source": [
    "## Imports\n",
    "### General imports"
   ]
  },
  {
   "cell_type": "code",
   "execution_count": 52,
   "metadata": {},
   "outputs": [],
   "source": [
    "import sys\n",
    "import pandas as pd\n",
    "\n",
    "%matplotlib inline\n",
    "import matplotlib\n",
    "matplotlib.style.use(\"ggplot\")"
   ]
  },
  {
   "cell_type": "markdown",
   "metadata": {},
   "source": [
    "### Specific imports"
   ]
  },
  {
   "cell_type": "code",
   "execution_count": 114,
   "metadata": {},
   "outputs": [],
   "source": [
    "repo_path = \"D:\\Documents\\GitHub\\league-of-legends\"\n",
    "\n",
    "if not repo_path in sys.path:\n",
    "    sys.path.append(repo_path)\n",
    "    \n",
    "import lib_plots; lib_plots = reload(lib_plots)\n",
    "import lib_api; lib_api = reload(lib_api)\n",
    "import lib_custom; lib_custom = reload(lib_custom)"
   ]
  },
  {
   "cell_type": "markdown",
   "metadata": {},
   "source": [
    "## Parameters & API key"
   ]
  },
  {
   "cell_type": "code",
   "execution_count": 92,
   "metadata": {},
   "outputs": [],
   "source": [
    "region = \"euw1\"\n",
    "summoner_name = \"Cyrlop\"\n",
    "api_key = \"RGAPI-f9fbf09c-17b8-48e4-8cdb-ea6ef58a1057\"\n",
    "summoner_names = [\"Cyrlop\", \"Helluin\", \"leag\"]"
   ]
  },
  {
   "cell_type": "code",
   "execution_count": 112,
   "metadata": {},
   "outputs": [
    {
     "name": "stdout",
     "output_type": "stream",
     "text": [
      "API request successful\n"
     ]
    }
   ],
   "source": [
    "api_works = lib_api.test_api_key(api_key)"
   ]
  },
  {
   "cell_type": "markdown",
   "metadata": {},
   "source": [
    "## Summoners"
   ]
  },
  {
   "cell_type": "code",
   "execution_count": 94,
   "metadata": {},
   "outputs": [],
   "source": [
    "json_summ_list = [lib_api.get_summoner_data(region, summoner_name, api_key) for summoner_name in summoner_names]"
   ]
  },
  {
   "cell_type": "code",
   "execution_count": 95,
   "metadata": {},
   "outputs": [
    {
     "data": {
      "text/html": [
       "<div>\n",
       "<style scoped>\n",
       "    .dataframe tbody tr th:only-of-type {\n",
       "        vertical-align: middle;\n",
       "    }\n",
       "\n",
       "    .dataframe tbody tr th {\n",
       "        vertical-align: top;\n",
       "    }\n",
       "\n",
       "    .dataframe thead th {\n",
       "        text-align: right;\n",
       "    }\n",
       "</style>\n",
       "<table border=\"1\" class=\"dataframe\">\n",
       "  <thead>\n",
       "    <tr style=\"text-align: right;\">\n",
       "      <th></th>\n",
       "      <th>accountId</th>\n",
       "      <th>id</th>\n",
       "      <th>profileIconId</th>\n",
       "      <th>revisionDate</th>\n",
       "      <th>summonerLevel</th>\n",
       "    </tr>\n",
       "    <tr>\n",
       "      <th>name</th>\n",
       "      <th></th>\n",
       "      <th></th>\n",
       "      <th></th>\n",
       "      <th></th>\n",
       "      <th></th>\n",
       "    </tr>\n",
       "  </thead>\n",
       "  <tbody>\n",
       "    <tr>\n",
       "      <th>Cyrlop</th>\n",
       "      <td>29238184</td>\n",
       "      <td>24732627</td>\n",
       "      <td>3226</td>\n",
       "      <td>1520031474000</td>\n",
       "      <td>65</td>\n",
       "    </tr>\n",
       "    <tr>\n",
       "      <th>Helluin</th>\n",
       "      <td>21603599</td>\n",
       "      <td>376152</td>\n",
       "      <td>19</td>\n",
       "      <td>1520014077000</td>\n",
       "      <td>60</td>\n",
       "    </tr>\n",
       "    <tr>\n",
       "      <th>leaG</th>\n",
       "      <td>239556</td>\n",
       "      <td>233829</td>\n",
       "      <td>661</td>\n",
       "      <td>1495764755000</td>\n",
       "      <td>30</td>\n",
       "    </tr>\n",
       "  </tbody>\n",
       "</table>\n",
       "</div>"
      ],
      "text/plain": [
       "         accountId        id  profileIconId   revisionDate  summonerLevel\n",
       "name                                                                     \n",
       "Cyrlop    29238184  24732627           3226  1520031474000             65\n",
       "Helluin   21603599    376152             19  1520014077000             60\n",
       "leaG        239556    233829            661  1495764755000             30"
      ]
     },
     "execution_count": 95,
     "metadata": {},
     "output_type": "execute_result"
    }
   ],
   "source": [
    "df_summoners = pd.DataFrame(json_summ_list).set_index(\"name\")\n",
    "df_summoners"
   ]
  },
  {
   "cell_type": "code",
   "execution_count": 115,
   "metadata": {},
   "outputs": [
    {
     "data": {
      "text/plain": [
       "<matplotlib.axes._subplots.AxesSubplot at 0x1040c358>"
      ]
     },
     "execution_count": 115,
     "metadata": {},
     "output_type": "execute_result"
    },
    {
     "data": {
      "image/png": "[encoded data removed]",
      "text/plain": [
       "<matplotlib.figure.Figure at 0xd47cac8>"
      ]
     },
     "metadata": {},
     "output_type": "display_data"
    }
   ],
   "source": [
    "ax = df_summoners[\"summonerLevel\"].plot.bar(title=\"Summoner level\")\n",
    "ax = lib_plots.label_bars(ax, perc=False)\n",
    "ax"
   ]
  },
  {
   "cell_type": "markdown",
   "metadata": {},
   "source": [
    "## Leagues"
   ]
  },
  {
   "cell_type": "code",
   "execution_count": 97,
   "metadata": {},
   "outputs": [],
   "source": [
    "json_league_list = [lib_api.get_summoner_league(summoner_id, region, api_key) for summoner_id in df_summoners[\"id\"]]"
   ]
  },
  {
   "cell_type": "code",
   "execution_count": 98,
   "metadata": {},
   "outputs": [
    {
     "data": {
      "text/html": [
       "<div>\n",
       "<style scoped>\n",
       "    .dataframe tbody tr th:only-of-type {\n",
       "        vertical-align: middle;\n",
       "    }\n",
       "\n",
       "    .dataframe tbody tr th {\n",
       "        vertical-align: top;\n",
       "    }\n",
       "\n",
       "    .dataframe thead th {\n",
       "        text-align: right;\n",
       "    }\n",
       "</style>\n",
       "<table border=\"1\" class=\"dataframe\">\n",
       "  <thead>\n",
       "    <tr style=\"text-align: right;\">\n",
       "      <th></th>\n",
       "      <th></th>\n",
       "      <th>freshBlood</th>\n",
       "      <th>hotStreak</th>\n",
       "      <th>inactive</th>\n",
       "      <th>leagueId</th>\n",
       "      <th>leagueName</th>\n",
       "      <th>leaguePoints</th>\n",
       "      <th>losses</th>\n",
       "      <th>playerOrTeamId</th>\n",
       "      <th>rank</th>\n",
       "      <th>tier</th>\n",
       "      <th>veteran</th>\n",
       "      <th>wins</th>\n",
       "      <th>ratio</th>\n",
       "    </tr>\n",
       "    <tr>\n",
       "      <th>playerOrTeamName</th>\n",
       "      <th>queueType</th>\n",
       "      <th></th>\n",
       "      <th></th>\n",
       "      <th></th>\n",
       "      <th></th>\n",
       "      <th></th>\n",
       "      <th></th>\n",
       "      <th></th>\n",
       "      <th></th>\n",
       "      <th></th>\n",
       "      <th></th>\n",
       "      <th></th>\n",
       "      <th></th>\n",
       "      <th></th>\n",
       "    </tr>\n",
       "  </thead>\n",
       "  <tbody>\n",
       "    <tr>\n",
       "      <th>Cyrlop</th>\n",
       "      <th>RANKED_SOLO_5x5</th>\n",
       "      <td>False</td>\n",
       "      <td>True</td>\n",
       "      <td>False</td>\n",
       "      <td>98fcdbf0-fc9e-11e7-972b-c81f66dacb22</td>\n",
       "      <td>Zed's Spellswords</td>\n",
       "      <td>80</td>\n",
       "      <td>48</td>\n",
       "      <td>24732627</td>\n",
       "      <td>IV</td>\n",
       "      <td>GOLD</td>\n",
       "      <td>False</td>\n",
       "      <td>48</td>\n",
       "      <td>50.00</td>\n",
       "    </tr>\n",
       "    <tr>\n",
       "      <th>Helluin</th>\n",
       "      <th>RANKED_SOLO_5x5</th>\n",
       "      <td>False</td>\n",
       "      <td>False</td>\n",
       "      <td>False</td>\n",
       "      <td>adf0deb0-fa93-11e7-964f-c81f66dd0e0d</td>\n",
       "      <td>Trundle's Spellswords</td>\n",
       "      <td>0</td>\n",
       "      <td>75</td>\n",
       "      <td>376152</td>\n",
       "      <td>I</td>\n",
       "      <td>GOLD</td>\n",
       "      <td>True</td>\n",
       "      <td>76</td>\n",
       "      <td>50.33</td>\n",
       "    </tr>\n",
       "  </tbody>\n",
       "</table>\n",
       "</div>"
      ],
      "text/plain": [
       "                                  freshBlood  hotStreak  inactive  \\\n",
       "playerOrTeamName queueType                                          \n",
       "Cyrlop           RANKED_SOLO_5x5       False       True     False   \n",
       "Helluin          RANKED_SOLO_5x5       False      False     False   \n",
       "\n",
       "                                                              leagueId  \\\n",
       "playerOrTeamName queueType                                               \n",
       "Cyrlop           RANKED_SOLO_5x5  98fcdbf0-fc9e-11e7-972b-c81f66dacb22   \n",
       "Helluin          RANKED_SOLO_5x5  adf0deb0-fa93-11e7-964f-c81f66dd0e0d   \n",
       "\n",
       "                                             leagueName  leaguePoints  losses  \\\n",
       "playerOrTeamName queueType                                                      \n",
       "Cyrlop           RANKED_SOLO_5x5      Zed's Spellswords            80      48   \n",
       "Helluin          RANKED_SOLO_5x5  Trundle's Spellswords             0      75   \n",
       "\n",
       "                                 playerOrTeamId rank  tier  veteran  wins  \\\n",
       "playerOrTeamName queueType                                                  \n",
       "Cyrlop           RANKED_SOLO_5x5       24732627   IV  GOLD    False    48   \n",
       "Helluin          RANKED_SOLO_5x5         376152    I  GOLD     True    76   \n",
       "\n",
       "                                  ratio  \n",
       "playerOrTeamName queueType               \n",
       "Cyrlop           RANKED_SOLO_5x5  50.00  \n",
       "Helluin          RANKED_SOLO_5x5  50.33  "
      ]
     },
     "execution_count": 98,
     "metadata": {},
     "output_type": "execute_result"
    }
   ],
   "source": [
    "leagues = []\n",
    "for l in json_league_list:\n",
    "    for e in l:\n",
    "        leagues.append(e)\n",
    "df_leagues = pd.DataFrame(leagues).set_index([\"playerOrTeamName\",\"queueType\"])\n",
    "df_leagues[\"ratio\"] = (df_leagues[\"wins\"]/(df_leagues[\"losses\"]+df_leagues[\"wins\"]))*100\n",
    "df_leagues[\"ratio\"] = df_leagues[\"ratio\"].apply(round, ndigits=2)\n",
    "df_leagues"
   ]
  },
  {
   "cell_type": "code",
   "execution_count": 116,
   "metadata": {},
   "outputs": [
    {
     "data": {
      "text/plain": [
       "<matplotlib.axes._subplots.AxesSubplot at 0xee55e48>"
      ]
     },
     "execution_count": 116,
     "metadata": {},
     "output_type": "execute_result"
    },
    {
     "data": {
      "image/png": "[encoded data removed]",
      "text/plain": [
       "<matplotlib.figure.Figure at 0xec64f60>"
      ]
     },
     "metadata": {},
     "output_type": "display_data"
    }
   ],
   "source": [
    "ax = df_leagues[\"ratio\"].plot.bar(title=\"Ratio\")\n",
    "ax = lib_plots.label_bars(ax, perc=True)\n",
    "ax"
   ]
  },
  {
   "cell_type": "markdown",
   "metadata": {},
   "source": [
    "## Start testing theory: Pseudo syntax"
   ]
  },
  {
   "cell_type": "markdown",
   "metadata": {},
   "source": [
    "### Get as much data as possible"
   ]
  },
  {
   "cell_type": "code",
   "execution_count": null,
   "metadata": {},
   "outputs": [],
   "source": [
    "# TODO\n",
    "# Try with random player IDs?\n",
    "# Function to store the data in a Json file\n",
    "# Only query data I don't already have"
   ]
  },
  {
   "cell_type": "markdown",
   "metadata": {},
   "source": [
    "### Rank all pseudos"
   ]
  },
  {
   "cell_type": "code",
   "execution_count": 111,
   "metadata": {},
   "outputs": [
    {
     "name": "stdout",
     "output_type": "stream",
     "text": [
      "1\n",
      "0.5\n",
      "0.25\n",
      "0.140625\n"
     ]
    }
   ],
   "source": [
    "print lib_custom.rate_pseudo(\"Cyrlop\")\n",
    "print lib_custom.rate_pseudo(\"Cyrlop06\")\n",
    "print lib_custom.rate_pseudo(\"cyrlop06\")\n",
    "print lib_custom.rate_pseudo(\"xX_cyrlop06_Xx\")    "
   ]
  },
  {
   "cell_type": "markdown",
   "metadata": {},
   "source": [
    "### Check if higher ranked pseudo win more"
   ]
  },
  {
   "cell_type": "code",
   "execution_count": null,
   "metadata": {},
   "outputs": [],
   "source": [
    "# TODO"
   ]
  }
 ],
 "metadata": {
  "kernelspec": {
   "display_name": "Python 2",
   "language": "python",
   "name": "python2"
  },
  "language_info": {
   "codemirror_mode": {
    "name": "ipython",
    "version": 2
   },
   "file_extension": ".py",
   "mimetype": "text/x-python",
   "name": "python",
   "nbconvert_exporter": "python",
   "pygments_lexer": "ipython2",
   "version": "2.7.14"
  }
 },
 "nbformat": 4,
 "nbformat_minor": 2
}
